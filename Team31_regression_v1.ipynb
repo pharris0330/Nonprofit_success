{
  "nbformat": 4,
  "nbformat_minor": 0,
  "metadata": {
    "colab": {
      "name": "Team31_regression_v1.ipynb",
      "provenance": [],
      "include_colab_link": true
    },
    "kernelspec": {
      "display_name": "Python 3",
      "name": "python3"
    }
  },
  "cells": [
    {
      "cell_type": "markdown",
      "metadata": {
        "id": "view-in-github",
        "colab_type": "text"
      },
      "source": [
        "<a href=\"https://colab.research.google.com/github/pharris0330/Nonprofit_success/blob/main/Team31_regression_v1.ipynb\" target=\"_parent\"><img src=\"https://colab.research.google.com/assets/colab-badge.svg\" alt=\"Open In Colab\"/></a>"
      ]
    },
    {
      "cell_type": "code",
      "metadata": {
        "colab": {
          "background_save": true
        },
        "id": "AnKaTGhN3xER"
      },
      "source": [
        "# Import the Pandas package\n",
        "import pandas as pd\n",
        "\n",
        "# Import the NumPy package\n",
        "import numpy as np\n",
        "\n",
        "# Import fundamental plotting library in Python\n",
        "import matplotlib.pyplot as plt"
      ],
      "execution_count": null,
      "outputs": []
    },
    {
      "cell_type": "code",
      "metadata": {
        "id": "_6YjmygF389j"
      },
      "source": [
        "#IRS Data for practice\n",
        "il_irsdata = pd.read_csv('https://raw.githubusercontent.com/pharris0330/team_31/main/eo_il.csv')\n",
        "\n",
        "ca_irsdata = pd.read_csv('https://raw.githubusercontent.com/pharris0330/team_31/main/eo_ca.csv')\n",
        "\n",
        "dc_irsdata = pd.read_csv('https://raw.githubusercontent.com/pharris0330/team_31/main/eo_dc.csv')\n",
        "\n",
        "ga_irsdata = pd.read_csv('https://raw.githubusercontent.com/pharris0330/team_31/main/eo_ga.csv')\n",
        "\n",
        "la_irsdata = pd.read_csv('https://raw.githubusercontent.com/pharris0330/team_31/main/eo_la.csv')"
      ],
      "execution_count": null,
      "outputs": []
    },
    {
      "cell_type": "code",
      "metadata": {
        "id": "ij-FTQYKBQbi"
      },
      "source": [
        "#SDG Data\n",
        "sdgurl = 'https://raw.githubusercontent.com/ifemiller/team31ds4a/main/US%20Cities%20SDG%202019%20Results.csv'\n",
        "\n",
        "sdg_data = pd.read_csv(sdgurl, error_bad_lines=False)"
      ],
      "execution_count": null,
      "outputs": []
    },
    {
      "cell_type": "code",
      "metadata": {
        "colab": {
          "base_uri": "https://localhost:8080/"
        },
        "id": "n2VdPkiU4Eex",
        "outputId": "a51d573d-6cbc-4361-89f6-2218223de5dc"
      },
      "source": [
        "il_irsdata['REVENUE_AMT'].head(20)"
      ],
      "execution_count": null,
      "outputs": [
        {
          "output_type": "execute_result",
          "data": {
            "text/plain": [
              "0            NaN\n",
              "1        82703.0\n",
              "2            0.0\n",
              "3       493984.0\n",
              "4            0.0\n",
              "5       114762.0\n",
              "6            0.0\n",
              "7            0.0\n",
              "8       302680.0\n",
              "9            NaN\n",
              "10           0.0\n",
              "11     2997058.0\n",
              "12           NaN\n",
              "13    10452874.0\n",
              "14       49503.0\n",
              "15           0.0\n",
              "16           NaN\n",
              "17           0.0\n",
              "18           0.0\n",
              "19           0.0\n",
              "Name: REVENUE_AMT, dtype: float64"
            ]
          },
          "metadata": {
            "tags": []
          },
          "execution_count": 3
        }
      ]
    },
    {
      "cell_type": "code",
      "metadata": {
        "id": "s65ZE28E4IIb"
      },
      "source": [
        "il_irsdata['REVENUE_AMT'] = il_irsdata['REVENUE_AMT'].fillna(0)\n",
        "\n",
        "ga_irsdata['REVENUE_AMT'] = ga_irsdata['REVENUE_AMT'].fillna(0)\n",
        "\n",
        "dc_irsdata['REVENUE_AMT'] = dc_irsdata['REVENUE_AMT'].fillna(0)\n",
        "\n",
        "ca_irsdata['REVENUE_AMT'] = ca_irsdata['REVENUE_AMT'].fillna(0)\n",
        "\n",
        "la_irsdata['REVENUE_AMT'] = la_irsdata['REVENUE_AMT'].fillna(0)"
      ],
      "execution_count": null,
      "outputs": []
    },
    {
      "cell_type": "code",
      "metadata": {
        "id": "2rw6-Eu62T0H"
      },
      "source": [
        "chicago_NP = il_irsdata[il_irsdata['CITY'] == 'CHICAGO']\n",
        "san_fransisco_Np = ca_irsdata[ca_irsdata['CITY'] == 'SAN FRANSISCO']\n",
        "atlanta_Np = ga_irsdata[ga_irsdata['CITY'] == 'ATLANTA']\n",
        "new_orleans_Np = la_irsdata[la_irsdata['CITY'] == 'NEW ORLEANS']\n",
        "washington_Np = dc_irsdata[dc_irsdata['CITY'] == 'WASHINGTON']\n",
        "San_Jose_Np = ca_irsdata[ca_irsdata['CITY'] == 'SAN JOSE']"
      ],
      "execution_count": null,
      "outputs": []
    },
    {
      "cell_type": "code",
      "metadata": {
        "id": "XYD_Wncpp28P"
      },
      "source": [
        "df = pd.DataFrame()"
      ],
      "execution_count": null,
      "outputs": []
    },
    {
      "cell_type": "code",
      "metadata": {
        "id": "IIM9yV75p9Ko"
      },
      "source": [
        "df['DC_REVENUE_AMT']=washington_Np['REVENUE_AMT']\n",
        "df['NO_REVENUE_AMT']=new_orleans_Np['REVENUE_AMT']\n",
        "df['ATL_REVENUE_AMT']=atlanta_Np['REVENUE_AMT']\n",
        "df['SF_REVENUE_AMT']=san_fransisco_Np['REVENUE_AMT']\n",
        "df['CHI_REVENUE_AMT']=chicago_NP['REVENUE_AMT']\n",
        "df['SANJ_REVENUE_AMT']=San_Jose_Np['REVENUE_AMT']"
      ],
      "execution_count": null,
      "outputs": []
    },
    {
      "cell_type": "code",
      "metadata": {
        "id": "LU31qNJt3NsL"
      },
      "source": [
        "df['DC_REVENUE_AMT'] = df['DC_REVENUE_AMT'].fillna(0)\n",
        "df['NO_REVENUE_AMT'] = df['NO_REVENUE_AMT'].fillna(0)\n",
        "df['ATL_REVENUE_AMT'] = df['ATL_REVENUE_AMT'].fillna(0)\n",
        "df['SF_REVENUE_AMT'] = df['SF_REVENUE_AMT'].fillna(0)\n",
        "df['CHI_REVENUE_AMT'] = df['CHI_REVENUE_AMT'].fillna(0)\n",
        "df['SANJ_REVENUE_AMT'] = df['SANJ_REVENUE_AMT'].fillna(0)\n",
        "\n",
        "\n"
      ],
      "execution_count": null,
      "outputs": []
    },
    {
      "cell_type": "code",
      "metadata": {
        "colab": {
          "base_uri": "https://localhost:8080/",
          "height": 1000
        },
        "id": "P7YZqBVRsmtm",
        "outputId": "53e43495-31ff-442a-fb08-3e44b1fbaf7e"
      },
      "source": [
        "df.head(40)"
      ],
      "execution_count": null,
      "outputs": [
        {
          "output_type": "execute_result",
          "data": {
            "text/html": [
              "<div>\n",
              "<style scoped>\n",
              "    .dataframe tbody tr th:only-of-type {\n",
              "        vertical-align: middle;\n",
              "    }\n",
              "\n",
              "    .dataframe tbody tr th {\n",
              "        vertical-align: top;\n",
              "    }\n",
              "\n",
              "    .dataframe thead th {\n",
              "        text-align: right;\n",
              "    }\n",
              "</style>\n",
              "<table border=\"1\" class=\"dataframe\">\n",
              "  <thead>\n",
              "    <tr style=\"text-align: right;\">\n",
              "      <th></th>\n",
              "      <th>DC_REVENUE_AMT</th>\n",
              "      <th>NO_REVENUE_AMT</th>\n",
              "      <th>ATL_REVENUE_AMT</th>\n",
              "      <th>SF_REVENUE_AMT</th>\n",
              "      <th>CHI_REVENUE_AMT</th>\n",
              "      <th>SANJ_REVENUE_AMT</th>\n",
              "    </tr>\n",
              "  </thead>\n",
              "  <tbody>\n",
              "    <tr>\n",
              "      <th>0</th>\n",
              "      <td>0.0</td>\n",
              "      <td>0.0</td>\n",
              "      <td>0.0</td>\n",
              "      <td>0.0</td>\n",
              "      <td>0.0</td>\n",
              "      <td>0.0</td>\n",
              "    </tr>\n",
              "    <tr>\n",
              "      <th>1</th>\n",
              "      <td>2542000.0</td>\n",
              "      <td>0.0</td>\n",
              "      <td>0.0</td>\n",
              "      <td>0.0</td>\n",
              "      <td>0.0</td>\n",
              "      <td>0.0</td>\n",
              "    </tr>\n",
              "    <tr>\n",
              "      <th>2</th>\n",
              "      <td>266714.0</td>\n",
              "      <td>0.0</td>\n",
              "      <td>0.0</td>\n",
              "      <td>0.0</td>\n",
              "      <td>0.0</td>\n",
              "      <td>0.0</td>\n",
              "    </tr>\n",
              "    <tr>\n",
              "      <th>3</th>\n",
              "      <td>0.0</td>\n",
              "      <td>0.0</td>\n",
              "      <td>0.0</td>\n",
              "      <td>0.0</td>\n",
              "      <td>493984.0</td>\n",
              "      <td>0.0</td>\n",
              "    </tr>\n",
              "    <tr>\n",
              "      <th>4</th>\n",
              "      <td>0.0</td>\n",
              "      <td>0.0</td>\n",
              "      <td>0.0</td>\n",
              "      <td>0.0</td>\n",
              "      <td>0.0</td>\n",
              "      <td>0.0</td>\n",
              "    </tr>\n",
              "    <tr>\n",
              "      <th>5</th>\n",
              "      <td>90219.0</td>\n",
              "      <td>0.0</td>\n",
              "      <td>0.0</td>\n",
              "      <td>0.0</td>\n",
              "      <td>0.0</td>\n",
              "      <td>0.0</td>\n",
              "    </tr>\n",
              "    <tr>\n",
              "      <th>6</th>\n",
              "      <td>0.0</td>\n",
              "      <td>0.0</td>\n",
              "      <td>0.0</td>\n",
              "      <td>0.0</td>\n",
              "      <td>0.0</td>\n",
              "      <td>0.0</td>\n",
              "    </tr>\n",
              "    <tr>\n",
              "      <th>7</th>\n",
              "      <td>299892.0</td>\n",
              "      <td>115219.0</td>\n",
              "      <td>0.0</td>\n",
              "      <td>0.0</td>\n",
              "      <td>0.0</td>\n",
              "      <td>0.0</td>\n",
              "    </tr>\n",
              "    <tr>\n",
              "      <th>8</th>\n",
              "      <td>0.0</td>\n",
              "      <td>0.0</td>\n",
              "      <td>0.0</td>\n",
              "      <td>0.0</td>\n",
              "      <td>302680.0</td>\n",
              "      <td>0.0</td>\n",
              "    </tr>\n",
              "    <tr>\n",
              "      <th>9</th>\n",
              "      <td>0.0</td>\n",
              "      <td>0.0</td>\n",
              "      <td>0.0</td>\n",
              "      <td>0.0</td>\n",
              "      <td>0.0</td>\n",
              "      <td>0.0</td>\n",
              "    </tr>\n",
              "    <tr>\n",
              "      <th>10</th>\n",
              "      <td>1922833.0</td>\n",
              "      <td>0.0</td>\n",
              "      <td>0.0</td>\n",
              "      <td>0.0</td>\n",
              "      <td>0.0</td>\n",
              "      <td>0.0</td>\n",
              "    </tr>\n",
              "    <tr>\n",
              "      <th>11</th>\n",
              "      <td>0.0</td>\n",
              "      <td>0.0</td>\n",
              "      <td>0.0</td>\n",
              "      <td>0.0</td>\n",
              "      <td>0.0</td>\n",
              "      <td>0.0</td>\n",
              "    </tr>\n",
              "    <tr>\n",
              "      <th>12</th>\n",
              "      <td>0.0</td>\n",
              "      <td>0.0</td>\n",
              "      <td>0.0</td>\n",
              "      <td>0.0</td>\n",
              "      <td>0.0</td>\n",
              "      <td>0.0</td>\n",
              "    </tr>\n",
              "    <tr>\n",
              "      <th>13</th>\n",
              "      <td>32709905.0</td>\n",
              "      <td>0.0</td>\n",
              "      <td>0.0</td>\n",
              "      <td>0.0</td>\n",
              "      <td>10452874.0</td>\n",
              "      <td>0.0</td>\n",
              "    </tr>\n",
              "    <tr>\n",
              "      <th>14</th>\n",
              "      <td>0.0</td>\n",
              "      <td>0.0</td>\n",
              "      <td>0.0</td>\n",
              "      <td>0.0</td>\n",
              "      <td>0.0</td>\n",
              "      <td>0.0</td>\n",
              "    </tr>\n",
              "    <tr>\n",
              "      <th>15</th>\n",
              "      <td>0.0</td>\n",
              "      <td>0.0</td>\n",
              "      <td>0.0</td>\n",
              "      <td>0.0</td>\n",
              "      <td>0.0</td>\n",
              "      <td>3077175.0</td>\n",
              "    </tr>\n",
              "    <tr>\n",
              "      <th>16</th>\n",
              "      <td>6355402.0</td>\n",
              "      <td>0.0</td>\n",
              "      <td>0.0</td>\n",
              "      <td>0.0</td>\n",
              "      <td>0.0</td>\n",
              "      <td>0.0</td>\n",
              "    </tr>\n",
              "    <tr>\n",
              "      <th>17</th>\n",
              "      <td>2673248.0</td>\n",
              "      <td>0.0</td>\n",
              "      <td>0.0</td>\n",
              "      <td>0.0</td>\n",
              "      <td>0.0</td>\n",
              "      <td>0.0</td>\n",
              "    </tr>\n",
              "    <tr>\n",
              "      <th>18</th>\n",
              "      <td>181866.0</td>\n",
              "      <td>0.0</td>\n",
              "      <td>0.0</td>\n",
              "      <td>0.0</td>\n",
              "      <td>0.0</td>\n",
              "      <td>0.0</td>\n",
              "    </tr>\n",
              "    <tr>\n",
              "      <th>19</th>\n",
              "      <td>0.0</td>\n",
              "      <td>0.0</td>\n",
              "      <td>0.0</td>\n",
              "      <td>0.0</td>\n",
              "      <td>0.0</td>\n",
              "      <td>0.0</td>\n",
              "    </tr>\n",
              "    <tr>\n",
              "      <th>20</th>\n",
              "      <td>111260.0</td>\n",
              "      <td>0.0</td>\n",
              "      <td>0.0</td>\n",
              "      <td>0.0</td>\n",
              "      <td>0.0</td>\n",
              "      <td>0.0</td>\n",
              "    </tr>\n",
              "    <tr>\n",
              "      <th>21</th>\n",
              "      <td>0.0</td>\n",
              "      <td>0.0</td>\n",
              "      <td>0.0</td>\n",
              "      <td>0.0</td>\n",
              "      <td>0.0</td>\n",
              "      <td>0.0</td>\n",
              "    </tr>\n",
              "    <tr>\n",
              "      <th>22</th>\n",
              "      <td>0.0</td>\n",
              "      <td>0.0</td>\n",
              "      <td>0.0</td>\n",
              "      <td>0.0</td>\n",
              "      <td>0.0</td>\n",
              "      <td>0.0</td>\n",
              "    </tr>\n",
              "    <tr>\n",
              "      <th>23</th>\n",
              "      <td>436178.0</td>\n",
              "      <td>0.0</td>\n",
              "      <td>0.0</td>\n",
              "      <td>0.0</td>\n",
              "      <td>0.0</td>\n",
              "      <td>0.0</td>\n",
              "    </tr>\n",
              "    <tr>\n",
              "      <th>24</th>\n",
              "      <td>10843398.0</td>\n",
              "      <td>0.0</td>\n",
              "      <td>0.0</td>\n",
              "      <td>0.0</td>\n",
              "      <td>0.0</td>\n",
              "      <td>0.0</td>\n",
              "    </tr>\n",
              "    <tr>\n",
              "      <th>25</th>\n",
              "      <td>106341.0</td>\n",
              "      <td>0.0</td>\n",
              "      <td>0.0</td>\n",
              "      <td>0.0</td>\n",
              "      <td>0.0</td>\n",
              "      <td>0.0</td>\n",
              "    </tr>\n",
              "    <tr>\n",
              "      <th>26</th>\n",
              "      <td>0.0</td>\n",
              "      <td>0.0</td>\n",
              "      <td>0.0</td>\n",
              "      <td>0.0</td>\n",
              "      <td>0.0</td>\n",
              "      <td>0.0</td>\n",
              "    </tr>\n",
              "    <tr>\n",
              "      <th>27</th>\n",
              "      <td>0.0</td>\n",
              "      <td>3086.0</td>\n",
              "      <td>0.0</td>\n",
              "      <td>0.0</td>\n",
              "      <td>0.0</td>\n",
              "      <td>0.0</td>\n",
              "    </tr>\n",
              "    <tr>\n",
              "      <th>28</th>\n",
              "      <td>0.0</td>\n",
              "      <td>0.0</td>\n",
              "      <td>0.0</td>\n",
              "      <td>0.0</td>\n",
              "      <td>0.0</td>\n",
              "      <td>0.0</td>\n",
              "    </tr>\n",
              "    <tr>\n",
              "      <th>29</th>\n",
              "      <td>2246427.0</td>\n",
              "      <td>0.0</td>\n",
              "      <td>0.0</td>\n",
              "      <td>0.0</td>\n",
              "      <td>0.0</td>\n",
              "      <td>5224.0</td>\n",
              "    </tr>\n",
              "    <tr>\n",
              "      <th>30</th>\n",
              "      <td>1953720.0</td>\n",
              "      <td>0.0</td>\n",
              "      <td>0.0</td>\n",
              "      <td>0.0</td>\n",
              "      <td>0.0</td>\n",
              "      <td>0.0</td>\n",
              "    </tr>\n",
              "    <tr>\n",
              "      <th>31</th>\n",
              "      <td>0.0</td>\n",
              "      <td>0.0</td>\n",
              "      <td>0.0</td>\n",
              "      <td>0.0</td>\n",
              "      <td>0.0</td>\n",
              "      <td>0.0</td>\n",
              "    </tr>\n",
              "    <tr>\n",
              "      <th>32</th>\n",
              "      <td>0.0</td>\n",
              "      <td>0.0</td>\n",
              "      <td>0.0</td>\n",
              "      <td>0.0</td>\n",
              "      <td>0.0</td>\n",
              "      <td>0.0</td>\n",
              "    </tr>\n",
              "    <tr>\n",
              "      <th>33</th>\n",
              "      <td>170090.0</td>\n",
              "      <td>0.0</td>\n",
              "      <td>0.0</td>\n",
              "      <td>0.0</td>\n",
              "      <td>0.0</td>\n",
              "      <td>0.0</td>\n",
              "    </tr>\n",
              "    <tr>\n",
              "      <th>34</th>\n",
              "      <td>0.0</td>\n",
              "      <td>0.0</td>\n",
              "      <td>77497.0</td>\n",
              "      <td>0.0</td>\n",
              "      <td>0.0</td>\n",
              "      <td>0.0</td>\n",
              "    </tr>\n",
              "    <tr>\n",
              "      <th>35</th>\n",
              "      <td>0.0</td>\n",
              "      <td>0.0</td>\n",
              "      <td>0.0</td>\n",
              "      <td>0.0</td>\n",
              "      <td>868642.0</td>\n",
              "      <td>0.0</td>\n",
              "    </tr>\n",
              "    <tr>\n",
              "      <th>36</th>\n",
              "      <td>95883.0</td>\n",
              "      <td>0.0</td>\n",
              "      <td>0.0</td>\n",
              "      <td>0.0</td>\n",
              "      <td>664117.0</td>\n",
              "      <td>0.0</td>\n",
              "    </tr>\n",
              "    <tr>\n",
              "      <th>37</th>\n",
              "      <td>99410.0</td>\n",
              "      <td>0.0</td>\n",
              "      <td>0.0</td>\n",
              "      <td>0.0</td>\n",
              "      <td>0.0</td>\n",
              "      <td>0.0</td>\n",
              "    </tr>\n",
              "    <tr>\n",
              "      <th>38</th>\n",
              "      <td>0.0</td>\n",
              "      <td>0.0</td>\n",
              "      <td>0.0</td>\n",
              "      <td>0.0</td>\n",
              "      <td>0.0</td>\n",
              "      <td>0.0</td>\n",
              "    </tr>\n",
              "    <tr>\n",
              "      <th>39</th>\n",
              "      <td>0.0</td>\n",
              "      <td>0.0</td>\n",
              "      <td>13409113.0</td>\n",
              "      <td>0.0</td>\n",
              "      <td>0.0</td>\n",
              "      <td>0.0</td>\n",
              "    </tr>\n",
              "  </tbody>\n",
              "</table>\n",
              "</div>"
            ],
            "text/plain": [
              "    DC_REVENUE_AMT  NO_REVENUE_AMT  ...  CHI_REVENUE_AMT  SANJ_REVENUE_AMT\n",
              "0              0.0             0.0  ...              0.0               0.0\n",
              "1        2542000.0             0.0  ...              0.0               0.0\n",
              "2         266714.0             0.0  ...              0.0               0.0\n",
              "3              0.0             0.0  ...         493984.0               0.0\n",
              "4              0.0             0.0  ...              0.0               0.0\n",
              "5          90219.0             0.0  ...              0.0               0.0\n",
              "6              0.0             0.0  ...              0.0               0.0\n",
              "7         299892.0        115219.0  ...              0.0               0.0\n",
              "8              0.0             0.0  ...         302680.0               0.0\n",
              "9              0.0             0.0  ...              0.0               0.0\n",
              "10       1922833.0             0.0  ...              0.0               0.0\n",
              "11             0.0             0.0  ...              0.0               0.0\n",
              "12             0.0             0.0  ...              0.0               0.0\n",
              "13      32709905.0             0.0  ...       10452874.0               0.0\n",
              "14             0.0             0.0  ...              0.0               0.0\n",
              "15             0.0             0.0  ...              0.0         3077175.0\n",
              "16       6355402.0             0.0  ...              0.0               0.0\n",
              "17       2673248.0             0.0  ...              0.0               0.0\n",
              "18        181866.0             0.0  ...              0.0               0.0\n",
              "19             0.0             0.0  ...              0.0               0.0\n",
              "20        111260.0             0.0  ...              0.0               0.0\n",
              "21             0.0             0.0  ...              0.0               0.0\n",
              "22             0.0             0.0  ...              0.0               0.0\n",
              "23        436178.0             0.0  ...              0.0               0.0\n",
              "24      10843398.0             0.0  ...              0.0               0.0\n",
              "25        106341.0             0.0  ...              0.0               0.0\n",
              "26             0.0             0.0  ...              0.0               0.0\n",
              "27             0.0          3086.0  ...              0.0               0.0\n",
              "28             0.0             0.0  ...              0.0               0.0\n",
              "29       2246427.0             0.0  ...              0.0            5224.0\n",
              "30       1953720.0             0.0  ...              0.0               0.0\n",
              "31             0.0             0.0  ...              0.0               0.0\n",
              "32             0.0             0.0  ...              0.0               0.0\n",
              "33        170090.0             0.0  ...              0.0               0.0\n",
              "34             0.0             0.0  ...              0.0               0.0\n",
              "35             0.0             0.0  ...         868642.0               0.0\n",
              "36         95883.0             0.0  ...         664117.0               0.0\n",
              "37         99410.0             0.0  ...              0.0               0.0\n",
              "38             0.0             0.0  ...              0.0               0.0\n",
              "39             0.0             0.0  ...              0.0               0.0\n",
              "\n",
              "[40 rows x 6 columns]"
            ]
          },
          "metadata": {
            "tags": []
          },
          "execution_count": 10
        }
      ]
    },
    {
      "cell_type": "code",
      "metadata": {
        "colab": {
          "base_uri": "https://localhost:8080/"
        },
        "id": "OVbtJYUVy1g0",
        "outputId": "eaec3249-0938-4e0d-deb2-c9a14c4a7d34"
      },
      "source": [
        "df['CHI_REVENUE_AMT'].sum()"
      ],
      "execution_count": null,
      "outputs": [
        {
          "output_type": "execute_result",
          "data": {
            "text/plain": [
              "3731141338.0"
            ]
          },
          "metadata": {
            "tags": []
          },
          "execution_count": 13
        }
      ]
    },
    {
      "cell_type": "code",
      "metadata": {
        "colab": {
          "base_uri": "https://localhost:8080/"
        },
        "id": "NzNl85TvzB9F",
        "outputId": "e49be661-0925-4551-fc16-10906eb74dc0"
      },
      "source": [
        "df['DC_REVENUE_AMT'].sum()"
      ],
      "execution_count": null,
      "outputs": [
        {
          "output_type": "execute_result",
          "data": {
            "text/plain": [
              "54827386902.0"
            ]
          },
          "metadata": {
            "tags": []
          },
          "execution_count": 12
        }
      ]
    },
    {
      "cell_type": "code",
      "metadata": {
        "colab": {
          "base_uri": "https://localhost:8080/"
        },
        "id": "dV3zT_c_65XG",
        "outputId": "f518cc56-907c-4771-9adf-641944cf19be"
      },
      "source": [
        "df['SANJ_REVENUE_AMT'].sum()"
      ],
      "execution_count": null,
      "outputs": [
        {
          "output_type": "execute_result",
          "data": {
            "text/plain": [
              "155794674.0"
            ]
          },
          "metadata": {
            "tags": []
          },
          "execution_count": 11
        }
      ]
    },
    {
      "cell_type": "code",
      "metadata": {
        "colab": {
          "base_uri": "https://localhost:8080/"
        },
        "id": "rcD_QOSO-on2",
        "outputId": "f90c34c3-c7ae-40b2-910c-e721dff62f4b"
      },
      "source": [
        "df['ATL_REVENUE_AMT'].sum()"
      ],
      "execution_count": null,
      "outputs": [
        {
          "output_type": "execute_result",
          "data": {
            "text/plain": [
              "6510140730.0"
            ]
          },
          "metadata": {
            "tags": []
          },
          "execution_count": 14
        }
      ]
    },
    {
      "cell_type": "code",
      "metadata": {
        "colab": {
          "base_uri": "https://localhost:8080/"
        },
        "id": "AFzOJKUE-x5i",
        "outputId": "d852c567-528d-4720-ac21-4b795c2d38e1"
      },
      "source": [
        "df['NO_REVENUE_AMT'].sum()"
      ],
      "execution_count": null,
      "outputs": [
        {
          "output_type": "execute_result",
          "data": {
            "text/plain": [
              "8527846679.0"
            ]
          },
          "metadata": {
            "tags": []
          },
          "execution_count": 15
        }
      ]
    },
    {
      "cell_type": "code",
      "metadata": {
        "id": "z5W-p4dPBIEl"
      },
      "source": [
        "df_SDG1 = sdg_data.iloc[:,0:7]\n",
        "\n",
        "#Does not include SDG 1 indicators  \n",
        "\n",
        "chicago_df =df_SDG1[df_SDG1['maincity'] == 'Chicago']\n",
        "atlanta_df =df_SDG1[df_SDG1['maincity'] == 'Atlanta']\n",
        "san_jose_df =df_SDG1[df_SDG1['maincity'] == 'San Jose']\n",
        "new_orleans_df =df_SDG1[df_SDG1['maincity'] == 'New Orleans']\n",
        "washington_df =df_SDG1[df_SDG1['maincity'] == 'Washington']\n",
        "madison_df =df_SDG1[df_SDG1['maincity'] == 'Madison']\n",
        "seattle_df =df_SDG1[df_SDG1['maincity'] == 'Portland']\n",
        "sandiego_df =df_SDG1[df_SDG1['maincity'] == 'San Diego']\n",
        "boston_df =df_SDG1[df_SDG1['maincity'] == 'Boston']\n",
        "raleigh_df =df_SDG1[df_SDG1['maincity'] == 'Raleigh']\n",
        "austin_df =df__SDG1[df_SDG1['maincity'] == 'Austin']"
      ],
      "execution_count": null,
      "outputs": []
    },
    {
      "cell_type": "code",
      "metadata": {
        "colab": {
          "base_uri": "https://localhost:8080/"
        },
        "id": "GH0ypXjlB9f1",
        "outputId": "7944410a-f394-4bb4-bafb-b67d0a1d24fe"
      },
      "source": [
        "print(chicago_df.head())\n",
        "print(atlanta_df.head())\n",
        "print(san_jose_df.head())\n",
        "print(new_orleans_df.head())\n",
        "print(washington_df.head())"
      ],
      "execution_count": null,
      "outputs": [
        {
          "output_type": "stream",
          "text": [
            "     Cbsa  Region maincity  ... score_sdgi  rank_sdgIndex  score_sdg1\n",
            "26  16980       2  Chicago  ...         53             27          75\n",
            "\n",
            "[1 rows x 7 columns]\n",
            "     Cbsa  Region maincity  ... score_sdgi  rank_sdgIndex  score_sdg1\n",
            "47  12060       3  Atlanta  ...         49             48          53\n",
            "\n",
            "[1 rows x 7 columns]\n",
            "    Cbsa  Region  maincity  ... score_sdgi  rank_sdgIndex  score_sdg1\n",
            "1  41940       4  San Jose  ...         68              2          87\n",
            "\n",
            "[1 rows x 7 columns]\n",
            "     Cbsa  Region     maincity  ... score_sdgi  rank_sdgIndex  score_sdg1\n",
            "95  35380       3  New Orleans  ...         40             96          11\n",
            "\n",
            "[1 rows x 7 columns]\n",
            "    Cbsa  Region    maincity  ... score_sdgi  rank_sdgIndex  score_sdg1\n",
            "2  47900       3  Washington  ...         67              3          84\n",
            "\n",
            "[1 rows x 7 columns]\n"
          ],
          "name": "stdout"
        }
      ]
    },
    {
      "cell_type": "code",
      "metadata": {
        "colab": {
          "base_uri": "https://localhost:8080/",
          "height": 204
        },
        "id": "cl3gMgArtiKm",
        "outputId": "8c260467-90fc-40b1-bffd-66245d1ede18"
      },
      "source": [
        "# Create a dataFrame using dictionary \n",
        "\n",
        "df=pd.DataFrame({\"City\":['New Orleans','ATL','San Jose','DC','Chicago'], \n",
        "                 \"Revenue\":[8527846679.0,6510140730.0,155794674.0,54827386902.0,3731141338.0],\"SDG\":[11,53,87,84,75]}) \n",
        "df"
      ],
      "execution_count": null,
      "outputs": [
        {
          "output_type": "execute_result",
          "data": {
            "text/html": [
              "<div>\n",
              "<style scoped>\n",
              "    .dataframe tbody tr th:only-of-type {\n",
              "        vertical-align: middle;\n",
              "    }\n",
              "\n",
              "    .dataframe tbody tr th {\n",
              "        vertical-align: top;\n",
              "    }\n",
              "\n",
              "    .dataframe thead th {\n",
              "        text-align: right;\n",
              "    }\n",
              "</style>\n",
              "<table border=\"1\" class=\"dataframe\">\n",
              "  <thead>\n",
              "    <tr style=\"text-align: right;\">\n",
              "      <th></th>\n",
              "      <th>City</th>\n",
              "      <th>Revenue</th>\n",
              "      <th>SDG</th>\n",
              "    </tr>\n",
              "  </thead>\n",
              "  <tbody>\n",
              "    <tr>\n",
              "      <th>0</th>\n",
              "      <td>New Orleans</td>\n",
              "      <td>8.527847e+09</td>\n",
              "      <td>11</td>\n",
              "    </tr>\n",
              "    <tr>\n",
              "      <th>1</th>\n",
              "      <td>ATL</td>\n",
              "      <td>6.510141e+09</td>\n",
              "      <td>53</td>\n",
              "    </tr>\n",
              "    <tr>\n",
              "      <th>2</th>\n",
              "      <td>San Jose</td>\n",
              "      <td>1.557947e+08</td>\n",
              "      <td>87</td>\n",
              "    </tr>\n",
              "    <tr>\n",
              "      <th>3</th>\n",
              "      <td>DC</td>\n",
              "      <td>5.482739e+10</td>\n",
              "      <td>84</td>\n",
              "    </tr>\n",
              "    <tr>\n",
              "      <th>4</th>\n",
              "      <td>Chicago</td>\n",
              "      <td>3.731141e+09</td>\n",
              "      <td>75</td>\n",
              "    </tr>\n",
              "  </tbody>\n",
              "</table>\n",
              "</div>"
            ],
            "text/plain": [
              "          City       Revenue  SDG\n",
              "0  New Orleans  8.527847e+09   11\n",
              "1          ATL  6.510141e+09   53\n",
              "2     San Jose  1.557947e+08   87\n",
              "3           DC  5.482739e+10   84\n",
              "4      Chicago  3.731141e+09   75"
            ]
          },
          "metadata": {
            "tags": []
          },
          "execution_count": 19
        }
      ]
    },
    {
      "cell_type": "code",
      "metadata": {
        "colab": {
          "base_uri": "https://localhost:8080/",
          "height": 295
        },
        "id": "qTlp-KBA7ZZD",
        "outputId": "e1a2273a-0471-44cd-d524-02772322e931"
      },
      "source": [
        "#Extract columns\n",
        "#x = array(df[:,2])\n",
        "#y = array(df[:,3])\n",
        "x = df['Revenue']\n",
        "y = df['SDG']\n",
        "\n",
        "#Plot the dataset\n",
        "plt.scatter(x,y)\n",
        "plt.xlabel('Revenue')\n",
        "plt.ylabel('SDG')\n",
        "plt.title('Rev. vs. SDG')\n",
        "plt.show()"
      ],
      "execution_count": null,
      "outputs": [
        {
          "output_type": "display_data",
          "data": {
            "image/png": "[encoded data removed]",
            "text/plain": [
              "<Figure size 432x288 with 1 Axes>"
            ]
          },
          "metadata": {
            "tags": []
          }
        }
      ]
    }
  ]
}