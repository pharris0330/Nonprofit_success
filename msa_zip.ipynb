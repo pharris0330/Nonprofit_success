{
  "nbformat": 4,
  "nbformat_minor": 0,
  "metadata": {
    "colab": {
      "name": "msa_zip",
      "provenance": [],
      "include_colab_link": true
    },
    "kernelspec": {
      "name": "python3",
      "display_name": "Python 3"
    }
  },
  "cells": [
    {
      "cell_type": "markdown",
      "metadata": {
        "id": "view-in-github",
        "colab_type": "text"
      },
      "source": [
        "<a href=\"https://colab.research.google.com/github/pharris0330/Nonprofit_success/blob/main/msa_zip.ipynb\" target=\"_parent\"><img src=\"https://colab.research.google.com/assets/colab-badge.svg\" alt=\"Open In Colab\"/></a>"
      ]
    },
    {
      "cell_type": "code",
      "metadata": {
        "id": "vGEkB2Gbf6kU"
      },
      "source": [
        "# Import the Pandas package\n",
        "import pandas as pd\n",
        "\n",
        "# Import the NumPy package\n",
        "import numpy as np\n",
        "\n",
        "# Import fundamental plotting library in Python\n",
        "import matplotlib.pyplot as plt"
      ],
      "execution_count": null,
      "outputs": []
    },
    {
      "cell_type": "code",
      "metadata": {
        "id": "mkgpPG_ggUGR"
      },
      "source": [
        "msa_zip = pd.read_csv('https://raw.githubusercontent.com/pharris0330/team_31/main/msa_zip.csv')"
      ],
      "execution_count": null,
      "outputs": []
    },
    {
      "cell_type": "code",
      "metadata": {
        "colab": {
          "base_uri": "https://localhost:8080/",
          "height": 204
        },
        "id": "zMBeLm5skdvb",
        "outputId": "f177ad5b-e337-4e3e-8916-c43be47c58d9"
      },
      "source": [
        "msa_zip.head()"
      ],
      "execution_count": null,
      "outputs": [
        {
          "output_type": "execute_result",
          "data": {
            "text/html": [
              "<div>\n",
              "<style scoped>\n",
              "    .dataframe tbody tr th:only-of-type {\n",
              "        vertical-align: middle;\n",
              "    }\n",
              "\n",
              "    .dataframe tbody tr th {\n",
              "        vertical-align: top;\n",
              "    }\n",
              "\n",
              "    .dataframe thead th {\n",
              "        text-align: right;\n",
              "    }\n",
              "</style>\n",
              "<table border=\"1\" class=\"dataframe\">\n",
              "  <thead>\n",
              "    <tr style=\"text-align: right;\">\n",
              "      <th></th>\n",
              "      <th>Unnamed: 0</th>\n",
              "      <th>ZIP</th>\n",
              "      <th>STATE</th>\n",
              "      <th>MSA No.</th>\n",
              "      <th>MSA NAME</th>\n",
              "    </tr>\n",
              "  </thead>\n",
              "  <tbody>\n",
              "    <tr>\n",
              "      <th>0</th>\n",
              "      <td>1</td>\n",
              "      <td>ZIP CODE</td>\n",
              "      <td>STATE</td>\n",
              "      <td>MSA No.</td>\n",
              "      <td>MSA Name</td>\n",
              "    </tr>\n",
              "    <tr>\n",
              "      <th>1</th>\n",
              "      <td>2</td>\n",
              "      <td>00210</td>\n",
              "      <td>NH</td>\n",
              "      <td>14460</td>\n",
              "      <td>Boston-Cambridge-Quincy, MA-NH MSA</td>\n",
              "    </tr>\n",
              "    <tr>\n",
              "      <th>2</th>\n",
              "      <td>3</td>\n",
              "      <td>00211</td>\n",
              "      <td>NH</td>\n",
              "      <td>14460</td>\n",
              "      <td>Boston-Cambridge-Quincy, MA-NH MSA</td>\n",
              "    </tr>\n",
              "    <tr>\n",
              "      <th>3</th>\n",
              "      <td>4</td>\n",
              "      <td>00212</td>\n",
              "      <td>NH</td>\n",
              "      <td>14460</td>\n",
              "      <td>Boston-Cambridge-Quincy, MA-NH MSA</td>\n",
              "    </tr>\n",
              "    <tr>\n",
              "      <th>4</th>\n",
              "      <td>5</td>\n",
              "      <td>00213</td>\n",
              "      <td>NH</td>\n",
              "      <td>14460</td>\n",
              "      <td>Boston-Cambridge-Quincy, MA-NH MSA</td>\n",
              "    </tr>\n",
              "  </tbody>\n",
              "</table>\n",
              "</div>"
            ],
            "text/plain": [
              "   Unnamed: 0       ZIP  STATE  MSA No.                            MSA NAME\n",
              "0           1  ZIP CODE  STATE  MSA No.                            MSA Name\n",
              "1           2     00210     NH    14460  Boston-Cambridge-Quincy, MA-NH MSA\n",
              "2           3     00211     NH    14460  Boston-Cambridge-Quincy, MA-NH MSA\n",
              "3           4     00212     NH    14460  Boston-Cambridge-Quincy, MA-NH MSA\n",
              "4           5     00213     NH    14460  Boston-Cambridge-Quincy, MA-NH MSA"
            ]
          },
          "metadata": {
            "tags": []
          },
          "execution_count": 3
        }
      ]
    },
    {
      "cell_type": "code",
      "metadata": {
        "colab": {
          "base_uri": "https://localhost:8080/",
          "height": 204
        },
        "id": "y0TJLkoUmvIY",
        "outputId": "7d8f9731-7726-40e0-dd78-31b98171e469"
      },
      "source": [
        "msa_zip = msa_zip.drop([0])\n",
        "msa_zip.head()"
      ],
      "execution_count": null,
      "outputs": [
        {
          "output_type": "execute_result",
          "data": {
            "text/html": [
              "<div>\n",
              "<style scoped>\n",
              "    .dataframe tbody tr th:only-of-type {\n",
              "        vertical-align: middle;\n",
              "    }\n",
              "\n",
              "    .dataframe tbody tr th {\n",
              "        vertical-align: top;\n",
              "    }\n",
              "\n",
              "    .dataframe thead th {\n",
              "        text-align: right;\n",
              "    }\n",
              "</style>\n",
              "<table border=\"1\" class=\"dataframe\">\n",
              "  <thead>\n",
              "    <tr style=\"text-align: right;\">\n",
              "      <th></th>\n",
              "      <th>Unnamed: 0</th>\n",
              "      <th>ZIP</th>\n",
              "      <th>STATE</th>\n",
              "      <th>MSA No.</th>\n",
              "      <th>MSA NAME</th>\n",
              "    </tr>\n",
              "  </thead>\n",
              "  <tbody>\n",
              "    <tr>\n",
              "      <th>1</th>\n",
              "      <td>2</td>\n",
              "      <td>00210</td>\n",
              "      <td>NH</td>\n",
              "      <td>14460</td>\n",
              "      <td>Boston-Cambridge-Quincy, MA-NH MSA</td>\n",
              "    </tr>\n",
              "    <tr>\n",
              "      <th>2</th>\n",
              "      <td>3</td>\n",
              "      <td>00211</td>\n",
              "      <td>NH</td>\n",
              "      <td>14460</td>\n",
              "      <td>Boston-Cambridge-Quincy, MA-NH MSA</td>\n",
              "    </tr>\n",
              "    <tr>\n",
              "      <th>3</th>\n",
              "      <td>4</td>\n",
              "      <td>00212</td>\n",
              "      <td>NH</td>\n",
              "      <td>14460</td>\n",
              "      <td>Boston-Cambridge-Quincy, MA-NH MSA</td>\n",
              "    </tr>\n",
              "    <tr>\n",
              "      <th>4</th>\n",
              "      <td>5</td>\n",
              "      <td>00213</td>\n",
              "      <td>NH</td>\n",
              "      <td>14460</td>\n",
              "      <td>Boston-Cambridge-Quincy, MA-NH MSA</td>\n",
              "    </tr>\n",
              "    <tr>\n",
              "      <th>5</th>\n",
              "      <td>6</td>\n",
              "      <td>00214</td>\n",
              "      <td>NH</td>\n",
              "      <td>14460</td>\n",
              "      <td>Boston-Cambridge-Quincy, MA-NH MSA</td>\n",
              "    </tr>\n",
              "  </tbody>\n",
              "</table>\n",
              "</div>"
            ],
            "text/plain": [
              "   Unnamed: 0    ZIP STATE MSA No.                            MSA NAME\n",
              "1           2  00210    NH   14460  Boston-Cambridge-Quincy, MA-NH MSA\n",
              "2           3  00211    NH   14460  Boston-Cambridge-Quincy, MA-NH MSA\n",
              "3           4  00212    NH   14460  Boston-Cambridge-Quincy, MA-NH MSA\n",
              "4           5  00213    NH   14460  Boston-Cambridge-Quincy, MA-NH MSA\n",
              "5           6  00214    NH   14460  Boston-Cambridge-Quincy, MA-NH MSA"
            ]
          },
          "metadata": {
            "tags": []
          },
          "execution_count": 5
        }
      ]
    },
    {
      "cell_type": "code",
      "metadata": {
        "id": "mTd5A9I3mD8a"
      },
      "source": [
        "# Define the consumption and generation categories we are interested in\n",
        "consume_category = \"PEC Electric Power Sector\"\n",
        "generate_category = \"ENG Nuclear Electric Power\"\n",
        "\n",
        "# Select the Electric Power Sector for energy consumption\n",
        "consume_df = clean_energy_df[clean_energy_df[\"Description\"] == consume_category][\n",
        "    [\"YYYYMM\", \"Value\"]\n",
        "].reset_index(drop=True)\n",
        "\n",
        "# Select nuclear electric power for energy consumption (all sectors)\n",
        "generate_df = clean_electricity_df[\n",
        "    clean_electricity_df[\"Description\"] == generate_category\n",
        "][[\"YYYYMM\", \"Value\"]].reset_index(drop=True)\n",
        "\n",
        "# Merge into one data frame for ease of plotting\n",
        "merged_df = pd.merge(\n",
        "    consume_df,\n",
        "    generate_df,\n",
        "    how=\"left\",\n",
        "    on=[\"YYYYMM\"],\n",
        "    suffixes=(\"_CONSUME\", \"_GENERATE\"),\n",
        ")\n",
        "\n",
        "merged_df.head()"
      ],
      "execution_count": null,
      "outputs": []
    }
  ]
}